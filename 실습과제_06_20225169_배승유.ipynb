{
  "nbformat": 4,
  "nbformat_minor": 0,
  "metadata": {
    "colab": {
      "provenance": [],
      "collapsed_sections": [],
      "authorship_tag": "ABX9TyO2e2/ncLPxXpRHtly3KaA/",
      "include_colab_link": true
    },
    "kernelspec": {
      "name": "python3",
      "display_name": "Python 3"
    },
    "language_info": {
      "name": "python"
    }
  },
  "cells": [
    {
      "cell_type": "markdown",
      "metadata": {
        "id": "view-in-github",
        "colab_type": "text"
      },
      "source": [
        "<a href=\"https://colab.research.google.com/github/baeseungyou/baeseungyou/blob/main/%EC%8B%A4%EC%8A%B5%EA%B3%BC%EC%A0%9C_06_20225169_%EB%B0%B0%EC%8A%B9%EC%9C%A0.ipynb\" target=\"_parent\"><img src=\"https://colab.research.google.com/assets/colab-badge.svg\" alt=\"Open In Colab\"/></a>"
      ]
    },
    {
      "cell_type": "code",
      "execution_count": null,
      "metadata": {
        "colab": {
          "base_uri": "https://localhost:8080/"
        },
        "id": "Hx6J9CKdrE7S",
        "outputId": "5920daaa-7063-4e4b-dc2a-6ef14483ffb7"
      },
      "outputs": [
        {
          "output_type": "stream",
          "name": "stdout",
          "text": [
            "A = [[1 2 3]\n",
            " [4 5 6]\n",
            " [7 8 9]]\n",
            "v = [[1]\n",
            " [2]\n",
            " [3]]\n"
          ]
        }
      ],
      "source": [
        "import numpy as np\n",
        "\n",
        "A = np.array([[1, 2, 3],\n",
        "              [4, 5, 6],\n",
        "              [7, 8, 9]])\n",
        "\n",
        "v = np.array([[1],\n",
        "              [2],\n",
        "              [3]])\n",
        "print(\"A =\", A)\n",
        "print(\"v =\", v)"
      ]
    },
    {
      "cell_type": "code",
      "source": [
        "import numpy as np\n",
        "\n",
        "a = np.zeros((2,3))\n",
        "print(\"a =\", a)\n",
        "\n",
        "b = np.ones((2, 2))\n",
        "print(\"b = \", b)\n",
        "\n",
        "c = np.full((3, 2), 3)\n",
        "print(\"c =\", c)\n",
        "\n",
        "d = np.eye(2)\n",
        "print(\"d =\", d)"
      ],
      "metadata": {
        "colab": {
          "base_uri": "https://localhost:8080/"
        },
        "id": "XDrrGhimrKDz",
        "outputId": "a8d80366-c060-427a-b82f-8481f5c1fcda"
      },
      "execution_count": null,
      "outputs": [
        {
          "output_type": "stream",
          "name": "stdout",
          "text": [
            "a = [[0. 0. 0.]\n",
            " [0. 0. 0.]]\n",
            "b =  [[1. 1.]\n",
            " [1. 1.]]\n",
            "c = [[3 3]\n",
            " [3 3]\n",
            " [3 3]]\n",
            "d = [[1. 0.]\n",
            " [0. 1.]]\n"
          ]
        }
      ]
    },
    {
      "cell_type": "markdown",
      "source": [
        "20225169_배승유"
      ],
      "metadata": {
        "id": "eWmVu9P_rFfg"
      }
    },
    {
      "cell_type": "code",
      "source": [
        "import numpy as np\n",
        "\n",
        "print(\"벡터의 결합에 의한 행렬 생성\")\n",
        "v1 = np.array([1, 2, 3])\n",
        "v2 = np.array([4, 5, 6])\n",
        "v3 = np.array([7, 8, 9])\n",
        "\n",
        "A = np.vstack([v1, v2, v3]) #v1, v2, v3를 각각 행으로 하는 행렬 A 생성\n",
        "print(\"A = \", A)\n",
        "\n",
        "B = np.column_stack([v1, v2, v3]) #v1, v2, v3를 각각 열로 하는 행렬 B 생성\n",
        "print(\"B = \", B)\n",
        "\n",
        "C = np.array([[1, 2], [3, 4], [5, 6]])\n",
        "print(\"C =\", C)\n",
        "\n",
        "D = np.column_stack([C, v3]) #행렬 C에 v3를 열로 추가하여 행렬 D 생성\n",
        "print(\"D =\", D)\n",
        "\n",
        "print(\"행렬의 성분 접근\")\n",
        "E = np.array([[1, 2, 3, 4], [5, 6, 7, 8], [9, 10, 11, 12]])\n",
        "\n",
        "print(\"E[0,3]= \", E[0,3])  #1행 4열의 성분\n",
        "print(\"E[1,2]= \", E[1,2])  #2행 3열의 성분\n",
        "\n",
        "print(\"E[0:2, 2] =\", E[0:2, 2]) #E의 1~2행의 3열에 해당하는 부분행렬\n",
        "print(\"E[0:2, 2:4] =\", E[0:2, 2:4]) #E의 1~2행의 3~4열에 해당하는 부분행렬\n",
        "print(\"E[2, :] =\", E[2, :]) #E의 3행에 해당하는 부분행렬\n",
        "\n",
        "print(\"성분의 변경\")\n",
        "print(\"E =\" , E)\n",
        "\n",
        "print(\"E[0,0] = \" , E[0, 0])\n",
        "E[0, 0] = -1    #E의 1행 1열 성분을 -1로 변경\n",
        "print(E)\n",
        "print(\"E[0,0] = \" , E[0, 0])\n",
        "\n"
      ],
      "metadata": {
        "colab": {
          "base_uri": "https://localhost:8080/"
        },
        "id": "IPAyHqVxsiWT",
        "outputId": "7d70e557-8dc8-4cd5-dcbe-5d6d205b3e14"
      },
      "execution_count": null,
      "outputs": [
        {
          "output_type": "stream",
          "name": "stdout",
          "text": [
            "벡터의 결합에 의한 행렬 생성\n",
            "A =  [[1 2 3]\n",
            " [4 5 6]\n",
            " [7 8 9]]\n",
            "B =  [[1 4 7]\n",
            " [2 5 8]\n",
            " [3 6 9]]\n",
            "C = [[1 2]\n",
            " [3 4]\n",
            " [5 6]]\n",
            "D = [[1 2 7]\n",
            " [3 4 8]\n",
            " [5 6 9]]\n",
            "행렬의 성분 접근\n",
            "E[0,3]=  4\n",
            "E[1,2]=  7\n",
            "E[0:2, 2] = [3 7]\n",
            "E[0:2, 2:4] = [[3 4]\n",
            " [7 8]]\n",
            "E[2, :] = [ 9 10 11 12]\n",
            "성분의 변경\n",
            "E = [[ 1  2  3  4]\n",
            " [ 5  6  7  8]\n",
            " [ 9 10 11 12]]\n",
            "E[0,0] =  1\n",
            "[[-1  2  3  4]\n",
            " [ 5  6  7  8]\n",
            " [ 9 10 11 12]]\n",
            "E[0,0] =  -1\n"
          ]
        }
      ]
    },
    {
      "cell_type": "code",
      "source": [
        "import numpy as np\n",
        "\n",
        "# 행렬 A를 출력하는 함수\n",
        "\n",
        "def pprint(msg, A):\n",
        "  print(\"---\", msg, \"---\")\n",
        "  (n,m) = A.shape\n",
        "  for i in range(0, n):\n",
        "    line = \"\"\n",
        "    for j in range(0, m):\n",
        "      line += \"{0:.2f}\".format(A[i,j]) + \"\\t\"\n",
        "      print(line)\n",
        "      print(\"\")\n",
        "\n",
        "  A = np.array([[1., 2.], [3., 4.]])\n",
        "  B = np.array([[2., 2.], [1., 3.]])\n",
        "  C = np.array([[4., 5., 6.], [7., 8., 9.]])\n",
        "  v = np.array([[10.], [20.]])\n",
        "\n",
        "  pprint(\"A+B\", A+B) #행렬의 합 A+B \n",
        "  pprint(\"A=B\", A-B) #행렬의 차 A-B\n",
        "\n",
        "  pprint(\"3*A\" , 3*A) #행렬의 스칼라배 3A\n",
        "  pprint(\"2*v\" , 2*v) #벡터의 스칼라배 2v\n",
        "\n",
        "  pprint(\"matmul(A,B)\", np.matmul(A,B)) #행렬의 곱 AB\n",
        "  pprint(\"matmul(A,C)\", np.matmul(A,C)) #행렬의 곱 AC\n",
        "  pprint(\"A*v\", A*v) #행렬과 벡터의 곱 Av\n",
        "\n",
        "  pprint(\"matrix_power(A,2)\", np.linalg.matrix_power(A,2)) #행렬의 거듭제곱 A2\n",
        "  pprint(\"matrix_power(A,3)\", np.linalg.matrix_power(A,3)) #행렬의 거듭제곱 A3\n",
        "\n",
        "  pprint (\"A*B\", A*B) #행렬의 성분별 곱셈 A*B\n",
        "  pprint(\"A/B\" , A/B) #행렬의 성분별 나눗셈 A/B\n",
        "  pprint(\"A**2 == A*A\", A**2) #행렬의 성분별 거듭제곱 A**2\n",
        "\n",
        "  pprint(\"A.T\", A.T) #행렬의 전치 AT\n",
        "  pprint(\"v.T\", v.T) #벡터의 전치 vT\n",
        "\n",
        "  M = np.diag([1, 2, 3]) #대각행렬 diag(1,2,3) 생성\n",
        "  pprint(\"diag(1,2,3) = \", M)\n",
        "\n",
        "  D11 = np.array([[1, 2], [3, 4]])\n",
        "  D12 = np.array([[5], [6]])\n",
        "  D21 = np.array([[7, 7]])\n",
        "  D22 = np.array([[8]])\n",
        "  D = np.block([[D11, D12], [D21, D22]]) #블록행렬 D 생성\n",
        "  pprint(\"block matrix\", D)"
      ],
      "metadata": {
        "id": "P3-zFtk7vHoM"
      },
      "execution_count": 3,
      "outputs": []
    }
  ]
}